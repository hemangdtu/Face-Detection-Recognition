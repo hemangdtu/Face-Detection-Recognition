{
 "cells": [
  {
   "cell_type": "code",
   "execution_count": 1,
   "metadata": {},
   "outputs": [],
   "source": [
    "import matplotlib.pyplot as plt\n",
    "import cv2\n",
    "import numpy as np"
   ]
  },
  {
   "cell_type": "code",
   "execution_count": 2,
   "metadata": {},
   "outputs": [
    {
     "name": "stdout",
     "output_type": "stream",
     "text": [
      "Enter the name of person getting clicked :Hemang Sinha\n",
      "Saving Face  20.0\r"
     ]
    }
   ],
   "source": [
    "cam = cv2.VideoCapture(0)\n",
    "detector = cv2.CascadeClassifier(\"haarcascade_frontalface_alt.xml\")\n",
    "\n",
    "name = input(\"Enter the name of person getting clicked :\")\n",
    "pics = []\n",
    "cnt = 0\n",
    "\n",
    "\n",
    "while True:\n",
    "    ret, frame = cam.read()\n",
    "    \n",
    "    if ret == False:\n",
    "        continue\n",
    "    \n",
    "    faces = detector.detectMultiScale(frame, 1.2)\n",
    "    if(len(faces)==0):\n",
    "        continue\n",
    "        \n",
    "    face = faces[0]\n",
    "    x, y, w, h = face\n",
    "    cv2.rectangle(frame, (x,y), (x+w, y+h), (0,255,0),2)\n",
    "    #--------------------Crop and Save that part of the face for training data\n",
    "    cnt += 1\n",
    "    \n",
    "    if cnt%10==0:\n",
    "        cropped_face = frame[y:y+h,x:x+w]\n",
    "        cropped_face = cv2.resize(cropped_face,(100,100))\n",
    "        pics.append(cropped_face)\n",
    "        print(\"Saving Face \",(cnt/10),end='\\r')\n",
    "        if(len(pics)==20):\n",
    "            break\n",
    "    \n",
    "    cv2.imshow(\"frame\",frame)\n",
    "    \n",
    "    key_pressed  = cv2.waitKey(1) & 0xFF\n",
    "    \n",
    "    if(key_pressed == ord('q')):\n",
    "        break\n",
    "    \n",
    "cam.release()\n",
    "cv2.destroyAllWindows()"
   ]
  },
  {
   "cell_type": "code",
   "execution_count": 3,
   "metadata": {},
   "outputs": [],
   "source": [
    "data = np.array(pics)\n",
    "np.save(name+\".npy\",data)"
   ]
  }
 ],
 "metadata": {
  "kernelspec": {
   "display_name": "Python 3",
   "language": "python",
   "name": "python3"
  },
  "language_info": {
   "codemirror_mode": {
    "name": "ipython",
    "version": 3
   },
   "file_extension": ".py",
   "mimetype": "text/x-python",
   "name": "python",
   "nbconvert_exporter": "python",
   "pygments_lexer": "ipython3",
   "version": "3.7.3"
  }
 },
 "nbformat": 4,
 "nbformat_minor": 2
}
